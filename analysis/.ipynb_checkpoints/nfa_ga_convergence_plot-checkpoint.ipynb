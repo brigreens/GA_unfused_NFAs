{
 "cells": [
  {
   "cell_type": "markdown",
   "metadata": {},
   "source": [
    "# Unweighted Multi & Convergence Plots"
   ]
  },
  {
   "cell_type": "markdown",
   "metadata": {},
   "source": [
    "Analysis notebook for producing publication figures.\n",
    "- Produces multi plot of polarizability term vs dipole moment term for three runs\n",
    "- Produces convergence plot of best polarizability and dipole terms vs generation for three runs"
   ]
  },
  {
   "cell_type": "markdown",
   "metadata": {},
   "source": [
    "## User Input"
   ]
  },
  {
   "cell_type": "code",
   "execution_count": 2,
   "metadata": {},
   "outputs": [],
   "source": [
    "# Paths to analysis files\n",
    "\n",
    "path = 'full_analysis_data.csv'"
   ]
  },
  {
   "cell_type": "markdown",
   "metadata": {},
   "source": [
    "## Imports and Method Definitions"
   ]
  },
  {
   "cell_type": "code",
   "execution_count": 3,
   "metadata": {},
   "outputs": [],
   "source": [
    "import numpy as np\n",
    "import pandas as pd\n",
    "import matplotlib.pyplot as plt\n",
    "import matplotlib.cm as cm\n",
    "import scipy.constants as sc"
   ]
  },
  {
   "cell_type": "markdown",
   "metadata": {},
   "source": [
    "## Data Processing"
   ]
  },
  {
   "cell_type": "markdown",
   "metadata": {},
   "source": [
    "df: Make DFs from each GA full analysis file  \n",
    "NOTE: Within generations, species are listed from best ranked to worst ranked by PCE"
   ]
  },
  {
   "cell_type": "code",
   "execution_count": 6,
   "metadata": {},
   "outputs": [
    {
     "data": {
      "text/html": [
       "<div>\n",
       "<style scoped>\n",
       "    .dataframe tbody tr th:only-of-type {\n",
       "        vertical-align: middle;\n",
       "    }\n",
       "\n",
       "    .dataframe tbody tr th {\n",
       "        vertical-align: top;\n",
       "    }\n",
       "\n",
       "    .dataframe thead th {\n",
       "        text-align: right;\n",
       "    }\n",
       "</style>\n",
       "<table border=\"1\" class=\"dataframe\">\n",
       "  <thead>\n",
       "    <tr style=\"text-align: right;\">\n",
       "      <th></th>\n",
       "      <th>gen</th>\n",
       "      <th>filename</th>\n",
       "      <th>deltaHOMO</th>\n",
       "      <th>summedoscs</th>\n",
       "      <th>PCE</th>\n",
       "      <th>donor</th>\n",
       "    </tr>\n",
       "  </thead>\n",
       "  <tbody>\n",
       "    <tr>\n",
       "      <th>59</th>\n",
       "      <td>2</td>\n",
       "      <td>104_36_24_36_104</td>\n",
       "      <td>0.32</td>\n",
       "      <td>4.300130</td>\n",
       "      <td>10.446075</td>\n",
       "      <td>PBDB-T-SF</td>\n",
       "    </tr>\n",
       "    <tr>\n",
       "      <th>60</th>\n",
       "      <td>2</td>\n",
       "      <td>36_47_2_47_36</td>\n",
       "      <td>0.38</td>\n",
       "      <td>4.109355</td>\n",
       "      <td>10.438679</td>\n",
       "      <td>PBDB-T-SF</td>\n",
       "    </tr>\n",
       "    <tr>\n",
       "      <th>61</th>\n",
       "      <td>2</td>\n",
       "      <td>93_56_7_56_93</td>\n",
       "      <td>0.65</td>\n",
       "      <td>3.265542</td>\n",
       "      <td>10.425597</td>\n",
       "      <td>PBDB-T-SF</td>\n",
       "    </tr>\n",
       "    <tr>\n",
       "      <th>62</th>\n",
       "      <td>2</td>\n",
       "      <td>90_50_12_50_90</td>\n",
       "      <td>0.15</td>\n",
       "      <td>4.682081</td>\n",
       "      <td>10.248672</td>\n",
       "      <td>PBDB-T-SF</td>\n",
       "    </tr>\n",
       "    <tr>\n",
       "      <th>63</th>\n",
       "      <td>2</td>\n",
       "      <td>36_33_14_33_36</td>\n",
       "      <td>0.74</td>\n",
       "      <td>2.855098</td>\n",
       "      <td>10.243367</td>\n",
       "      <td>PBDB-T-SF</td>\n",
       "    </tr>\n",
       "  </tbody>\n",
       "</table>\n",
       "</div>"
      ],
      "text/plain": [
       "    gen          filename  deltaHOMO  summedoscs        PCE      donor\n",
       "59    2  104_36_24_36_104       0.32    4.300130  10.446075  PBDB-T-SF\n",
       "60    2     36_47_2_47_36       0.38    4.109355  10.438679  PBDB-T-SF\n",
       "61    2     93_56_7_56_93       0.65    3.265542  10.425597  PBDB-T-SF\n",
       "62    2    90_50_12_50_90       0.15    4.682081  10.248672  PBDB-T-SF\n",
       "63    2    36_33_14_33_36       0.74    2.855098  10.243367  PBDB-T-SF"
      ]
     },
     "execution_count": 6,
     "metadata": {},
     "output_type": "execute_result"
    }
   ],
   "source": [
    "df = pd.read_csv(path, index_col=False)\n",
    "\n",
    "df.tail()"
   ]
  },
  {
   "cell_type": "markdown",
   "metadata": {},
   "source": [
    "df_max: Make combined DF of max PCE and associated deltaHOMO and summedoscs from each generation for all datasets  \n",
    "ASSUMES 32 polymers per generation, and within generation species rows are listed from best ranked to worst ranked"
   ]
  },
  {
   "cell_type": "code",
   "execution_count": 23,
   "metadata": {},
   "outputs": [
    {
     "data": {
      "text/html": [
       "<div>\n",
       "<style scoped>\n",
       "    .dataframe tbody tr th:only-of-type {\n",
       "        vertical-align: middle;\n",
       "    }\n",
       "\n",
       "    .dataframe tbody tr th {\n",
       "        vertical-align: top;\n",
       "    }\n",
       "\n",
       "    .dataframe thead th {\n",
       "        text-align: right;\n",
       "    }\n",
       "</style>\n",
       "<table border=\"1\" class=\"dataframe\">\n",
       "  <thead>\n",
       "    <tr style=\"text-align: right;\">\n",
       "      <th></th>\n",
       "      <th>gen</th>\n",
       "      <th>max_pce</th>\n",
       "      <th>homo_at_max</th>\n",
       "      <th>sum_at_max</th>\n",
       "    </tr>\n",
       "  </thead>\n",
       "  <tbody>\n",
       "    <tr>\n",
       "      <th>0</th>\n",
       "      <td>1</td>\n",
       "      <td>15.698305</td>\n",
       "      <td>0.83</td>\n",
       "      <td>6.538459</td>\n",
       "    </tr>\n",
       "    <tr>\n",
       "      <th>1</th>\n",
       "      <td>2</td>\n",
       "      <td>15.975046</td>\n",
       "      <td>1.26</td>\n",
       "      <td>5.410711</td>\n",
       "    </tr>\n",
       "  </tbody>\n",
       "</table>\n",
       "</div>"
      ],
      "text/plain": [
       "   gen    max_pce  homo_at_max  sum_at_max\n",
       "0    1  15.698305         0.83    6.538459\n",
       "1    2  15.975046         1.26    5.410711"
      ]
     },
     "execution_count": 23,
     "metadata": {},
     "output_type": "execute_result"
    }
   ],
   "source": [
    "# max values found based on ordering of df_multi rows inherited from original df's: \n",
    "# within each generation, best ranked (max) polymer is top row\n",
    "\n",
    "df_max = pd.DataFrame()\n",
    "\n",
    "num_gen = df.iloc[df.shape[0]-1,0]\n",
    "for x in range(num_gen):\n",
    "    \n",
    "    gen = df.iloc[0+x*32, 0]\n",
    "    max_pce = df.iloc[0+x*32, 4]\n",
    "    homo_at_max = df.iloc[0+x*32, 2]\n",
    "    sum_at_max = df.iloc[0+x*32, 3]\n",
    "    \n",
    "    temp_df = pd.DataFrame({'gen':[gen], 'max_pce':[max_pce], 'homo_at_max':[homo_at_max], 'sum_at_max':[sum_at_max]})\n",
    "    df_max = df_max.append(temp_df, ignore_index=True)\n",
    "\n",
    "df_max.tail()"
   ]
  },
  {
   "cell_type": "markdown",
   "metadata": {},
   "source": [
    "## Generate Plots"
   ]
  },
  {
   "cell_type": "markdown",
   "metadata": {},
   "source": [
    "Set global font sizes for plotting"
   ]
  },
  {
   "cell_type": "code",
   "execution_count": 12,
   "metadata": {},
   "outputs": [],
   "source": [
    "SMALL_SIZE = 8\n",
    "MEDIUM_SIZE = 10\n",
    "BIGGER_SIZE = 12\n",
    "\n",
    "plt.rc('font', size=SMALL_SIZE)          # controls default text sizes\n",
    "plt.rc('axes', titlesize=SMALL_SIZE)     # fontsize of the axes title\n",
    "plt.rc('axes', labelsize=MEDIUM_SIZE)    # fontsize of the x and y labels\n",
    "plt.rc('xtick', labelsize=SMALL_SIZE)    # fontsize of the tick labels\n",
    "plt.rc('ytick', labelsize=SMALL_SIZE)    # fontsize of the tick labels\n",
    "plt.rc('legend', fontsize=SMALL_SIZE)    # legend fontsize\n",
    "plt.rc('figure', titlesize=MEDIUM_SIZE)  # fontsize of the figure title"
   ]
  },
  {
   "cell_type": "markdown",
   "metadata": {},
   "source": [
    "### Convergence Plot"
   ]
  },
  {
   "cell_type": "markdown",
   "metadata": {},
   "source": [
    "Find max and min values from list of generation maximums for each run (to confirm plot limits)"
   ]
  },
  {
   "cell_type": "code",
   "execution_count": 24,
   "metadata": {},
   "outputs": [
    {
     "name": "stdout",
     "output_type": "stream",
     "text": [
      "min_pce_term 15.698305\n",
      "max_pce_term 15.975045999999999\n",
      "min_homo_term 0.83\n",
      "max_homo_term 1.26\n",
      "min_sum_term 5.410711\n",
      "max_sum_term 6.538459\n"
     ]
    }
   ],
   "source": [
    "# PCE\n",
    "min_pce_m = min(df_max['max_pce'])\n",
    "max_pce_m = max(df_max['max_pce'])\n",
    "\n",
    "# deltaHOMO\n",
    "min_homo_m = min(df_max['homo_at_max'])\n",
    "max_homo_m = max(df_max['homo_at_max'])\n",
    "\n",
    "# summedoscs\n",
    "min_sum_m = min(df_max['sum_at_max'])\n",
    "max_sum_m = max(df_max['sum_at_max'])\n",
    "\n",
    "print('min_pce_term', min_pce_m)\n",
    "print('max_pce_term', max_pce_m)\n",
    "print('min_homo_term', min_homo_m)\n",
    "print('max_homo_term', max_homo_m)\n",
    "print('min_sum_term', min_sum_m)\n",
    "print('max_sum_term', max_sum_m)"
   ]
  },
  {
   "cell_type": "code",
   "execution_count": 47,
   "metadata": {},
   "outputs": [
    {
     "name": "stderr",
     "output_type": "stream",
     "text": [
      "/ihome/crc/install/python/miniconda3-3.7/lib/python3.7/site-packages/matplotlib/cbook/__init__.py:2064: FutureWarning: Support for multi-dimensional indexing (e.g. `obj[:, None]`) is deprecated and will be removed in a future version.  Convert to a numpy array before indexing instead.\n",
      "  x[:, None]\n",
      "/ihome/crc/install/python/miniconda3-3.7/lib/python3.7/site-packages/matplotlib/axes/_base.py:248: FutureWarning: Support for multi-dimensional indexing (e.g. `obj[:, None]`) is deprecated and will be removed in a future version.  Convert to a numpy array before indexing instead.\n",
      "  x = x[:, np.newaxis]\n",
      "/ihome/crc/install/python/miniconda3-3.7/lib/python3.7/site-packages/matplotlib/axes/_base.py:250: FutureWarning: Support for multi-dimensional indexing (e.g. `obj[:, None]`) is deprecated and will be removed in a future version.  Convert to a numpy array before indexing instead.\n",
      "  y = y[:, np.newaxis]\n"
     ]
    },
    {
     "data": {
      "image/png": "[encoded data removed]",
      "text/plain": [
       "<Figure size 1800x1200 with 3 Axes>"
      ]
     },
     "metadata": {
      "needs_background": "light"
     },
     "output_type": "display_data"
    }
   ],
   "source": [
    "fig, ((ax1), (ax2), (ax3)) = plt.subplots(3, 1, sharex=True, dpi=300)\n",
    "\n",
    "# set figure axes\n",
    "xlimits = (0, 100)\n",
    "xticks = []\n",
    "xticks_gen = [0, 20, 40, 60, 80, 100]\n",
    "\n",
    "# PCE y axis\n",
    "ylim_p = (15, 16)\n",
    "yticks_p = [15, 15.5, 16]\n",
    "\n",
    "# deltaHOMO y axis\n",
    "ylim_h = (0.8, 1.4)\n",
    "yticks_h =[0.8, 1, 1.2, 1.4]\n",
    "\n",
    "# summedoscs y axis\n",
    "ylim_s = (5, 7)\n",
    "yticks_s =[5, 6, 7]\n",
    "\n",
    "ax1.plot('gen', 'max_pce', data=df_max, linestyle='', marker='o', markersize=2)\n",
    "ax1.set_ylabel('Best PCE', fontsize=8)\n",
    "ax1.set(ylim=ylim_p, xlim=xlimits)\n",
    "ax1.set_yticks(yticks_p)\n",
    "\n",
    "ax1.set_xticks(xticks)\n",
    "ax1.grid(alpha=0.5)\n",
    "ax1.set_axisbelow(True)\n",
    "\n",
    "for tic in ax1.xaxis.get_major_ticks():\n",
    "    tic.tick1On = tic.tick2On = False\n",
    "\n",
    "ax2.plot('gen', 'homo_at_max', data=df_max, linestyle='', marker='o', markersize=2,color='#cb2121')\n",
    "ax2.set_ylabel('Best\\ndeltaHOMO', fontsize=8)\n",
    "ax2.set(ylim=ylim_h, xlim=xlimits)\n",
    "ax2.set_yticks(yticks_h)\n",
    "\n",
    "ax2.set_xticks(xticks)\n",
    "ax2.grid(alpha=0.5)\n",
    "ax2.set_axisbelow(True)\n",
    "\n",
    "for tic in ax2.xaxis.get_major_ticks():\n",
    "    tic.tick1On = tic.tick2On = False\n",
    "\n",
    "ax3.plot('gen', 'sum_at_max', data=df_max, linestyle='', marker='o', markersize=2,color='#cb2121')\n",
    "ax3.set_ylabel('Best\\nsummedoscs', fontsize=8)\n",
    "ax3.set(ylim=ylim_s, xlim=xlimits)\n",
    "ax3.set_yticks(yticks_s)\n",
    "\n",
    "ax3.set_xticks(xticks_gen)\n",
    "ax3.grid(alpha=0.5)\n",
    "ax3.set_axisbelow(True)\n",
    "\n",
    "    \n",
    "top = 0.75\n",
    "bottom = 0.12\n",
    "midpoint = (top+bottom)/2\n",
    "\n",
    "left = 0.11\n",
    "right = 0.35\n",
    "    \n",
    "fig.text((left+right)/2, 0.02,'Generation', ha='center')\n",
    "\n",
    "plt.subplots_adjust(top=top, bottom=bottom, left=left, right=right, hspace=0.3)\n",
    "\n",
    "# plt.savefig('convergence_plots.pdf', transparent=False, bbox_inches='tight')\n",
    "# plt.savefig('convergence_plots.png', transparent=False, bbox_inches='tight')\n",
    "\n",
    "plt.show()"
   ]
  },
  {
   "cell_type": "code",
   "execution_count": null,
   "metadata": {},
   "outputs": [],
   "source": []
  }
 ],
 "metadata": {
  "kernelspec": {
   "display_name": "Python 3.7",
   "language": "python",
   "name": "python3"
  },
  "language_info": {
   "codemirror_mode": {
    "name": "ipython",
    "version": 3
   },
   "file_extension": ".py",
   "mimetype": "text/x-python",
   "name": "python",
   "nbconvert_exporter": "python",
   "pygments_lexer": "ipython3",
   "version": "3.7.0"
  }
 },
 "nbformat": 4,
 "nbformat_minor": 4
}
