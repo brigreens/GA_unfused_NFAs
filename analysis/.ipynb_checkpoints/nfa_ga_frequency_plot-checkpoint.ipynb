{
 "cells": [
  {
   "cell_type": "markdown",
   "metadata": {},
   "source": [
    "# Acceptor & Donor Frequency Plots"
   ]
  },
  {
   "cell_type": "markdown",
   "metadata": {},
   "source": [
    "Analysis notebook for producing figures.\n",
    "- Produces bar chart of top 10 species for terminal acceptor, core donor, and core acceptor"
   ]
  },
  {
   "cell_type": "markdown",
   "metadata": {},
   "source": [
    "## User Input"
   ]
  },
  {
   "cell_type": "code",
   "execution_count": 1,
   "metadata": {},
   "outputs": [],
   "source": [
    "# path to analysis file\n",
    "path = 'full_analysis_data.csv'"
   ]
  },
  {
   "cell_type": "markdown",
   "metadata": {},
   "source": [
    "## Imports"
   ]
  },
  {
   "cell_type": "code",
   "execution_count": 2,
   "metadata": {},
   "outputs": [],
   "source": [
    "import pandas as pd\n",
    "import math\n",
    "import matplotlib.pyplot as plt\n",
    "import matplotlib.cm as cm\n",
    "import scipy.constants as sc"
   ]
  },
  {
   "cell_type": "markdown",
   "metadata": {},
   "source": [
    "## Methods"
   ]
  },
  {
   "cell_type": "code",
   "execution_count": 3,
   "metadata": {},
   "outputs": [],
   "source": [
    "# helper function for top_ten\n",
    "# takes any dataframe with col: filename\n",
    "# returns new dataframe with additional cols: acc_term, don_core, acc_core\n",
    "\n",
    "def split_filename(df):\n",
    "    df2 = df.copy()\n",
    "\n",
    "    new = df2['filename'].str.split('_', expand=True)\n",
    "    df2['acc_term'] = new[0]\n",
    "    df2['don_core'] = new[1]\n",
    "    df2['acc_core'] = new[2]\n",
    "    \n",
    "    return df2"
   ]
  },
  {
   "cell_type": "code",
   "execution_count": 12,
   "metadata": {},
   "outputs": [],
   "source": [
    "# takes any dataframe with cols: acc_term, don_core, acc_core\n",
    "# returns list of 3 new dataframes with cols: [acc_term, acc_term_count, acc_term_perc], [don_core, don_core_count, don_core_perc], and [acc_core, acc_core_count, acc_core_perc]\n",
    "\n",
    "def get_freq_counts(df):\n",
    "\n",
    "    # split filename column\n",
    "    df_split = split_filename(df)\n",
    "\n",
    "    # make series objects of each part of filename with accompanying counts\n",
    "    # note that both monomer columns are combined before creating series with value counts\n",
    "    count_at = df_split['acc_term'].value_counts()\n",
    "    count_dc = df_split['don_core'].value_counts()\n",
    "    count_ac = df_split['acc_core'].value_counts()\n",
    "    \n",
    "    # make series objects into dataframes and rename columns appropriately\n",
    "    count_at = pd.DataFrame(count_at.reset_index())\n",
    "    count_at.columns = ['acc_term', 'acc_term_count']\n",
    "    \n",
    "    count_dc = pd.DataFrame(count_dc.reset_index())\n",
    "    count_dc.columns = ['don_core', 'don_core_count']\n",
    "\n",
    "    count_ac = pd.DataFrame(count_ac.reset_index())\n",
    "    count_ac.columns = ['acc_core', 'acc_core_count']\n",
    "      \n",
    "    # make percentage column in each dataframe  \n",
    "    count_at['acc_term_perc'] = count_at['acc_term_count']/count_at['acc_term_count'].sum()*100\n",
    "    count_dc['don_core_perc'] = count_dc['don_core_count']/count_dc['don_core_count'].sum()*100\n",
    "    count_ac['acc_core_perc'] = count_ac['acc_core_count']/count_ac['acc_core_count'].sum()*100\n",
    "    \n",
    "    return [count_at, count_dc, count_ac]  "
   ]
  },
  {
   "cell_type": "markdown",
   "metadata": {},
   "source": [
    "## Data Processing"
   ]
  },
  {
   "cell_type": "markdown",
   "metadata": {},
   "source": [
    "Make DF of run data  \n",
    "NOTE: Within generations, species are listed from best ranked to worst ranked"
   ]
  },
  {
   "cell_type": "code",
   "execution_count": 6,
   "metadata": {},
   "outputs": [],
   "source": [
    "run_data = pd.read_csv(path, index_col=False)"
   ]
  },
  {
   "cell_type": "code",
   "execution_count": 7,
   "metadata": {},
   "outputs": [
    {
     "data": {
      "text/html": [
       "<div>\n",
       "<style scoped>\n",
       "    .dataframe tbody tr th:only-of-type {\n",
       "        vertical-align: middle;\n",
       "    }\n",
       "\n",
       "    .dataframe tbody tr th {\n",
       "        vertical-align: top;\n",
       "    }\n",
       "\n",
       "    .dataframe thead th {\n",
       "        text-align: right;\n",
       "    }\n",
       "</style>\n",
       "<table border=\"1\" class=\"dataframe\">\n",
       "  <thead>\n",
       "    <tr style=\"text-align: right;\">\n",
       "      <th></th>\n",
       "      <th>gen</th>\n",
       "      <th>filename</th>\n",
       "      <th>deltaHOMO</th>\n",
       "      <th>summedoscs</th>\n",
       "      <th>PCE</th>\n",
       "      <th>donor</th>\n",
       "    </tr>\n",
       "  </thead>\n",
       "  <tbody>\n",
       "    <tr>\n",
       "      <th>59</th>\n",
       "      <td>2</td>\n",
       "      <td>104_36_24_36_104</td>\n",
       "      <td>0.32</td>\n",
       "      <td>4.300130</td>\n",
       "      <td>10.446075</td>\n",
       "      <td>PBDB-T-SF</td>\n",
       "    </tr>\n",
       "    <tr>\n",
       "      <th>60</th>\n",
       "      <td>2</td>\n",
       "      <td>36_47_2_47_36</td>\n",
       "      <td>0.38</td>\n",
       "      <td>4.109355</td>\n",
       "      <td>10.438679</td>\n",
       "      <td>PBDB-T-SF</td>\n",
       "    </tr>\n",
       "    <tr>\n",
       "      <th>61</th>\n",
       "      <td>2</td>\n",
       "      <td>93_56_7_56_93</td>\n",
       "      <td>0.65</td>\n",
       "      <td>3.265542</td>\n",
       "      <td>10.425597</td>\n",
       "      <td>PBDB-T-SF</td>\n",
       "    </tr>\n",
       "    <tr>\n",
       "      <th>62</th>\n",
       "      <td>2</td>\n",
       "      <td>90_50_12_50_90</td>\n",
       "      <td>0.15</td>\n",
       "      <td>4.682081</td>\n",
       "      <td>10.248672</td>\n",
       "      <td>PBDB-T-SF</td>\n",
       "    </tr>\n",
       "    <tr>\n",
       "      <th>63</th>\n",
       "      <td>2</td>\n",
       "      <td>36_33_14_33_36</td>\n",
       "      <td>0.74</td>\n",
       "      <td>2.855098</td>\n",
       "      <td>10.243367</td>\n",
       "      <td>PBDB-T-SF</td>\n",
       "    </tr>\n",
       "  </tbody>\n",
       "</table>\n",
       "</div>"
      ],
      "text/plain": [
       "    gen          filename  deltaHOMO  summedoscs        PCE      donor\n",
       "59    2  104_36_24_36_104       0.32    4.300130  10.446075  PBDB-T-SF\n",
       "60    2     36_47_2_47_36       0.38    4.109355  10.438679  PBDB-T-SF\n",
       "61    2     93_56_7_56_93       0.65    3.265542  10.425597  PBDB-T-SF\n",
       "62    2    90_50_12_50_90       0.15    4.682081  10.248672  PBDB-T-SF\n",
       "63    2    36_33_14_33_36       0.74    2.855098  10.243367  PBDB-T-SF"
      ]
     },
     "execution_count": 7,
     "metadata": {},
     "output_type": "execute_result"
    }
   ],
   "source": [
    "run_data.tail()"
   ]
  },
  {
   "cell_type": "code",
   "execution_count": 15,
   "metadata": {},
   "outputs": [],
   "source": [
    "at_counts, dc_counts, ac_counts = get_freq_counts(run_data)\n",
    "\n",
    "# take top 10 only\n",
    "at_counts = at_counts[:10]\n",
    "dc_counts = dc_counts[:10]\n",
    "ac_counts = ac_counts[:10]"
   ]
  },
  {
   "cell_type": "code",
   "execution_count": 32,
   "metadata": {},
   "outputs": [
    {
     "data": {
      "text/html": [
       "<div>\n",
       "<style scoped>\n",
       "    .dataframe tbody tr th:only-of-type {\n",
       "        vertical-align: middle;\n",
       "    }\n",
       "\n",
       "    .dataframe tbody tr th {\n",
       "        vertical-align: top;\n",
       "    }\n",
       "\n",
       "    .dataframe thead th {\n",
       "        text-align: right;\n",
       "    }\n",
       "</style>\n",
       "<table border=\"1\" class=\"dataframe\">\n",
       "  <thead>\n",
       "    <tr style=\"text-align: right;\">\n",
       "      <th></th>\n",
       "      <th>acc_term</th>\n",
       "      <th>acc_term_count</th>\n",
       "      <th>acc_term_perc</th>\n",
       "    </tr>\n",
       "  </thead>\n",
       "  <tbody>\n",
       "    <tr>\n",
       "      <th>0</th>\n",
       "      <td>86</td>\n",
       "      <td>5</td>\n",
       "      <td>7.8125</td>\n",
       "    </tr>\n",
       "    <tr>\n",
       "      <th>1</th>\n",
       "      <td>36</td>\n",
       "      <td>5</td>\n",
       "      <td>7.8125</td>\n",
       "    </tr>\n",
       "    <tr>\n",
       "      <th>2</th>\n",
       "      <td>95</td>\n",
       "      <td>4</td>\n",
       "      <td>6.2500</td>\n",
       "    </tr>\n",
       "    <tr>\n",
       "      <th>3</th>\n",
       "      <td>8</td>\n",
       "      <td>3</td>\n",
       "      <td>4.6875</td>\n",
       "    </tr>\n",
       "    <tr>\n",
       "      <th>4</th>\n",
       "      <td>78</td>\n",
       "      <td>3</td>\n",
       "      <td>4.6875</td>\n",
       "    </tr>\n",
       "    <tr>\n",
       "      <th>5</th>\n",
       "      <td>90</td>\n",
       "      <td>3</td>\n",
       "      <td>4.6875</td>\n",
       "    </tr>\n",
       "    <tr>\n",
       "      <th>6</th>\n",
       "      <td>6</td>\n",
       "      <td>3</td>\n",
       "      <td>4.6875</td>\n",
       "    </tr>\n",
       "    <tr>\n",
       "      <th>7</th>\n",
       "      <td>93</td>\n",
       "      <td>3</td>\n",
       "      <td>4.6875</td>\n",
       "    </tr>\n",
       "    <tr>\n",
       "      <th>8</th>\n",
       "      <td>16</td>\n",
       "      <td>3</td>\n",
       "      <td>4.6875</td>\n",
       "    </tr>\n",
       "    <tr>\n",
       "      <th>9</th>\n",
       "      <td>61</td>\n",
       "      <td>3</td>\n",
       "      <td>4.6875</td>\n",
       "    </tr>\n",
       "  </tbody>\n",
       "</table>\n",
       "</div>"
      ],
      "text/plain": [
       "  acc_term  acc_term_count  acc_term_perc\n",
       "0       86               5         7.8125\n",
       "1       36               5         7.8125\n",
       "2       95               4         6.2500\n",
       "3        8               3         4.6875\n",
       "4       78               3         4.6875\n",
       "5       90               3         4.6875\n",
       "6        6               3         4.6875\n",
       "7       93               3         4.6875\n",
       "8       16               3         4.6875\n",
       "9       61               3         4.6875"
      ]
     },
     "execution_count": 32,
     "metadata": {},
     "output_type": "execute_result"
    }
   ],
   "source": [
    "at_counts"
   ]
  },
  {
   "cell_type": "markdown",
   "metadata": {},
   "source": [
    "## Generate Plots"
   ]
  },
  {
   "cell_type": "markdown",
   "metadata": {},
   "source": [
    "Set global font sizes for plotting"
   ]
  },
  {
   "cell_type": "code",
   "execution_count": 17,
   "metadata": {},
   "outputs": [],
   "source": [
    "SMALL_SIZE = 8\n",
    "MEDIUM_SIZE = 10\n",
    "BIGGER_SIZE = 12\n",
    "\n",
    "plt.rc('font', size=SMALL_SIZE)          # controls default text sizes\n",
    "plt.rc('axes', titlesize=SMALL_SIZE)     # fontsize of the axes title\n",
    "plt.rc('axes', labelsize=MEDIUM_SIZE)    # fontsize of the x and y labels\n",
    "plt.rc('xtick', labelsize=SMALL_SIZE)    # fontsize of the tick labels\n",
    "plt.rc('ytick', labelsize=SMALL_SIZE)    # fontsize of the tick labels\n",
    "plt.rc('legend', fontsize=SMALL_SIZE)    # legend fontsize\n",
    "plt.rc('figure', titlesize=MEDIUM_SIZE)  # fontsize of the figure title"
   ]
  },
  {
   "cell_type": "markdown",
   "metadata": {},
   "source": [
    "### Monomer Plot"
   ]
  },
  {
   "cell_type": "code",
   "execution_count": 33,
   "metadata": {},
   "outputs": [
    {
     "data": {
      "image/png": "[encoded data removed]",
      "text/plain": [
       "<Figure size 1800x1200 with 3 Axes>"
      ]
     },
     "metadata": {
      "needs_background": "light"
     },
     "output_type": "display_data"
    }
   ],
   "source": [
    "fig, axs = plt.subplots(1, 3, sharey=True, dpi=300)\n",
    "\n",
    "rot=45\n",
    "wt='bold'\n",
    "\n",
    "plt.rcParams[\"font.weight\"] = 'regular'\n",
    "\n",
    "axs[0].bar('acc_term', 'acc_term_perc', data=at_counts)\n",
    "axs[0].set_title('Terminal Acceptor')\n",
    "axs[0].set_xticklabels(at_counts['acc_term'], rotation=rot)\n",
    "axs[0].set(ylim=(0, 100))\n",
    "\n",
    "axs[0].grid(alpha=0.5)\n",
    "axs[0].set_axisbelow(True)\n",
    "\n",
    "axs[1].bar('don_core', 'don_core_perc', data=dc_counts)\n",
    "axs[1].set_title('Core Donor')\n",
    "axs[1].set_xticklabels(dc_counts['don_core'], rotation=rot)\n",
    "\n",
    "axs[1].grid(alpha=0.5)\n",
    "axs[1].set_axisbelow(True)\n",
    "\n",
    "for tic in axs[1].yaxis.get_major_ticks():\n",
    "    tic.tick1On = tic.tick2On = False\n",
    "\n",
    "axs[2].bar('acc_core', 'acc_core_perc', data=ac_counts)\n",
    "axs[2].set_title('Core Acceptor')\n",
    "axs[2].set_xticklabels(ac_counts['acc_core'], rotation=rot)\n",
    "\n",
    "axs[2].grid(alpha=0.5)\n",
    "axs[2].set_axisbelow(True)\n",
    "\n",
    "for tic in axs[2].yaxis.get_major_ticks():\n",
    "    tic.tick1On = tic.tick2On = False\n",
    "\n",
    "top = 0.5\n",
    "bottom = 0.15\n",
    "left = 0\n",
    "right = 1\n",
    "\n",
    "fig.text((left+right)/2, 0.03,'Index', ha='center')\n",
    "fig.text(-0.08, (top+bottom)/2,'Frequency Percentage', va='center', rotation='vertical')\n",
    "\n",
    "plt.subplots_adjust(top=top, bottom=bottom, left=left, right=right, hspace=0.55, wspace=0.05)\n",
    "\n",
    "# plt.savefig('requency_plot.pdf', transparent=False, bbox_inches='tight')\n",
    "# plt.savefig('requency_plot.png', transparent=False, bbox_inches='tight')\n",
    "\n",
    "plt.show()\n"
   ]
  },
  {
   "cell_type": "code",
   "execution_count": null,
   "metadata": {},
   "outputs": [],
   "source": []
  }
 ],
 "metadata": {
  "kernelspec": {
   "display_name": "Python 3.7",
   "language": "python",
   "name": "python3"
  },
  "language_info": {
   "codemirror_mode": {
    "name": "ipython",
    "version": 3
   },
   "file_extension": ".py",
   "mimetype": "text/x-python",
   "name": "python",
   "nbconvert_exporter": "python",
   "pygments_lexer": "ipython3",
   "version": "3.7.0"
  }
 },
 "nbformat": 4,
 "nbformat_minor": 4
}
