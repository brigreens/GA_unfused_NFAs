{
 "cells": [
  {
   "cell_type": "markdown",
   "metadata": {},
   "source": [
    "# Acceptor & Donor Frequency Plots"
   ]
  },
  {
   "cell_type": "markdown",
   "metadata": {},
   "source": [
    "Analysis notebook for producing figures.\n",
    "- Produces bar chart of top 10 species for terminal acceptor, core donor, and core acceptor"
   ]
  },
  {
   "cell_type": "markdown",
   "metadata": {},
   "source": [
    "## User Input"
   ]
  },
  {
   "cell_type": "code",
   "execution_count": 1,
   "metadata": {},
   "outputs": [],
   "source": [
    "# path to analysis file\n",
    "path = 'full_analysis_data.csv'"
   ]
  },
  {
   "cell_type": "markdown",
   "metadata": {},
   "source": [
    "## Imports"
   ]
  },
  {
   "cell_type": "code",
   "execution_count": 2,
   "metadata": {},
   "outputs": [],
   "source": [
    "import pandas as pd\n",
    "import math\n",
    "import matplotlib.pyplot as plt\n",
    "import matplotlib.cm as cm\n",
    "import scipy.constants as sc"
   ]
  },
  {
   "cell_type": "markdown",
   "metadata": {},
   "source": [
    "## Methods"
   ]
  },
  {
   "cell_type": "code",
   "execution_count": 3,
   "metadata": {},
   "outputs": [],
   "source": [
    "# helper function for top_ten\n",
    "# takes any dataframe with col: filename\n",
    "# returns new dataframe with additional cols: acc_term, don_core, acc_core\n",
    "\n",
    "def split_filename(df):\n",
    "    df2 = df.copy()\n",
    "\n",
    "    new = df2['filename'].str.split('_', expand=True)\n",
    "    df2['acc_term'] = new[0]\n",
    "    if df2['acc_term'] == 45:\n",
    "        \n",
    "    df2['don_core'] = new[1]\n",
    "    df2['acc_core'] = new[2]\n",
    "    \n",
    "    return df2"
   ]
  },
  {
   "cell_type": "code",
   "execution_count": 4,
   "metadata": {},
   "outputs": [],
   "source": [
    "# takes any dataframe with cols: acc_term, don_core, acc_core\n",
    "# returns list of 3 new dataframes with cols: [acc_term, acc_term_count, acc_term_perc], [don_core, don_core_count, don_core_perc], and [acc_core, acc_core_count, acc_core_perc]\n",
    "\n",
    "def get_freq_counts(df):\n",
    "\n",
    "    # split filename column\n",
    "    df_split = split_filename(df)\n",
    "\n",
    "    # make series objects of each part of filename with accompanying counts\n",
    "    # note that both monomer columns are combined before creating series with value counts\n",
    "    count_at = df_split['acc_term'].value_counts()\n",
    "    count_dc = df_split['don_core'].value_counts()\n",
    "    count_ac = df_split['acc_core'].value_counts()\n",
    "    \n",
    "    # make series objects into dataframes and rename columns appropriately\n",
    "    count_at = pd.DataFrame(count_at.reset_index())\n",
    "    count_at.columns = ['acc_term', 'acc_term_count']\n",
    "    \n",
    "    count_dc = pd.DataFrame(count_dc.reset_index())\n",
    "    count_dc.columns = ['don_core', 'don_core_count']\n",
    "\n",
    "    count_ac = pd.DataFrame(count_ac.reset_index())\n",
    "    count_ac.columns = ['acc_core', 'acc_core_count']\n",
    "      \n",
    "    # make percentage column in each dataframe  \n",
    "    count_at['acc_term_perc'] = count_at['acc_term_count']/count_at['acc_term_count'].sum()*100\n",
    "    count_dc['don_core_perc'] = count_dc['don_core_count']/count_dc['don_core_count'].sum()*100\n",
    "    count_ac['acc_core_perc'] = count_ac['acc_core_count']/count_ac['acc_core_count'].sum()*100\n",
    "    \n",
    "    return [count_at, count_dc, count_ac]  "
   ]
  },
  {
   "cell_type": "markdown",
   "metadata": {},
   "source": [
    "## Data Processing"
   ]
  },
  {
   "cell_type": "markdown",
   "metadata": {},
   "source": [
    "Make DF of run data  \n",
    "NOTE: Within generations, species are listed from best ranked to worst ranked"
   ]
  },
  {
   "cell_type": "code",
   "execution_count": 5,
   "metadata": {},
   "outputs": [],
   "source": [
    "run_data = pd.read_csv(path, index_col=False)"
   ]
  },
  {
   "cell_type": "code",
   "execution_count": 6,
   "metadata": {},
   "outputs": [
    {
     "data": {
      "text/html": [
       "<div>\n",
       "<style scoped>\n",
       "    .dataframe tbody tr th:only-of-type {\n",
       "        vertical-align: middle;\n",
       "    }\n",
       "\n",
       "    .dataframe tbody tr th {\n",
       "        vertical-align: top;\n",
       "    }\n",
       "\n",
       "    .dataframe thead th {\n",
       "        text-align: right;\n",
       "    }\n",
       "</style>\n",
       "<table border=\"1\" class=\"dataframe\">\n",
       "  <thead>\n",
       "    <tr style=\"text-align: right;\">\n",
       "      <th></th>\n",
       "      <th>gen</th>\n",
       "      <th>filename</th>\n",
       "      <th>deltaHOMO</th>\n",
       "      <th>summedoscs</th>\n",
       "      <th>PCE</th>\n",
       "      <th>donor</th>\n",
       "    </tr>\n",
       "  </thead>\n",
       "  <tbody>\n",
       "    <tr>\n",
       "      <th>3213</th>\n",
       "      <td>99</td>\n",
       "      <td>48_48_0_48_48</td>\n",
       "      <td>0.91</td>\n",
       "      <td>7.007241</td>\n",
       "      <td>16.684218</td>\n",
       "      <td>PBDB-T-SF</td>\n",
       "    </tr>\n",
       "    <tr>\n",
       "      <th>3214</th>\n",
       "      <td>99</td>\n",
       "      <td>75_48_5_48_75</td>\n",
       "      <td>0.91</td>\n",
       "      <td>7.004831</td>\n",
       "      <td>16.680899</td>\n",
       "      <td>PBDB-T-SF</td>\n",
       "    </tr>\n",
       "    <tr>\n",
       "      <th>3215</th>\n",
       "      <td>99</td>\n",
       "      <td>30_48_5_48_30</td>\n",
       "      <td>0.77</td>\n",
       "      <td>7.331942</td>\n",
       "      <td>16.535630</td>\n",
       "      <td>PBDB-T-SF</td>\n",
       "    </tr>\n",
       "    <tr>\n",
       "      <th>3216</th>\n",
       "      <td>99</td>\n",
       "      <td>69_48_17_48_69</td>\n",
       "      <td>0.07</td>\n",
       "      <td>9.186997</td>\n",
       "      <td>16.111541</td>\n",
       "      <td>PBDB-T-SF</td>\n",
       "    </tr>\n",
       "    <tr>\n",
       "      <th>3217</th>\n",
       "      <td>99</td>\n",
       "      <td>45_47_5_47_45</td>\n",
       "      <td>0.98</td>\n",
       "      <td>0.000000</td>\n",
       "      <td>7.333097</td>\n",
       "      <td>PBDB-T-SF</td>\n",
       "    </tr>\n",
       "  </tbody>\n",
       "</table>\n",
       "</div>"
      ],
      "text/plain": [
       "      gen        filename  deltaHOMO  summedoscs        PCE      donor\n",
       "3213   99   48_48_0_48_48       0.91    7.007241  16.684218  PBDB-T-SF\n",
       "3214   99   75_48_5_48_75       0.91    7.004831  16.680899  PBDB-T-SF\n",
       "3215   99   30_48_5_48_30       0.77    7.331942  16.535630  PBDB-T-SF\n",
       "3216   99  69_48_17_48_69       0.07    9.186997  16.111541  PBDB-T-SF\n",
       "3217   99   45_47_5_47_45       0.98    0.000000   7.333097  PBDB-T-SF"
      ]
     },
     "execution_count": 6,
     "metadata": {},
     "output_type": "execute_result"
    }
   ],
   "source": [
    "run_data.tail()"
   ]
  },
  {
   "cell_type": "code",
   "execution_count": 7,
   "metadata": {},
   "outputs": [],
   "source": [
    "at_counts, dc_counts, ac_counts = get_freq_counts(run_data)\n",
    "\n",
    "# take top 10 only\n",
    "at_counts = at_counts[:10]\n",
    "dc_counts = dc_counts[:10]\n",
    "ac_counts = ac_counts[:10]"
   ]
  },
  {
   "cell_type": "code",
   "execution_count": 8,
   "metadata": {},
   "outputs": [
    {
     "data": {
      "text/html": [
       "<div>\n",
       "<style scoped>\n",
       "    .dataframe tbody tr th:only-of-type {\n",
       "        vertical-align: middle;\n",
       "    }\n",
       "\n",
       "    .dataframe tbody tr th {\n",
       "        vertical-align: top;\n",
       "    }\n",
       "\n",
       "    .dataframe thead th {\n",
       "        text-align: right;\n",
       "    }\n",
       "</style>\n",
       "<table border=\"1\" class=\"dataframe\">\n",
       "  <thead>\n",
       "    <tr style=\"text-align: right;\">\n",
       "      <th></th>\n",
       "      <th>acc_term</th>\n",
       "      <th>acc_term_count</th>\n",
       "      <th>acc_term_perc</th>\n",
       "    </tr>\n",
       "  </thead>\n",
       "  <tbody>\n",
       "    <tr>\n",
       "      <th>0</th>\n",
       "      <td>78</td>\n",
       "      <td>725</td>\n",
       "      <td>22.529521</td>\n",
       "    </tr>\n",
       "    <tr>\n",
       "      <th>1</th>\n",
       "      <td>90</td>\n",
       "      <td>563</td>\n",
       "      <td>17.495339</td>\n",
       "    </tr>\n",
       "    <tr>\n",
       "      <th>2</th>\n",
       "      <td>69</td>\n",
       "      <td>284</td>\n",
       "      <td>8.825357</td>\n",
       "    </tr>\n",
       "    <tr>\n",
       "      <th>3</th>\n",
       "      <td>45</td>\n",
       "      <td>270</td>\n",
       "      <td>8.390305</td>\n",
       "    </tr>\n",
       "    <tr>\n",
       "      <th>4</th>\n",
       "      <td>88</td>\n",
       "      <td>219</td>\n",
       "      <td>6.805469</td>\n",
       "    </tr>\n",
       "    <tr>\n",
       "      <th>5</th>\n",
       "      <td>52</td>\n",
       "      <td>205</td>\n",
       "      <td>6.370416</td>\n",
       "    </tr>\n",
       "    <tr>\n",
       "      <th>6</th>\n",
       "      <td>0</td>\n",
       "      <td>183</td>\n",
       "      <td>5.686762</td>\n",
       "    </tr>\n",
       "    <tr>\n",
       "      <th>7</th>\n",
       "      <td>18</td>\n",
       "      <td>149</td>\n",
       "      <td>4.630205</td>\n",
       "    </tr>\n",
       "    <tr>\n",
       "      <th>8</th>\n",
       "      <td>20</td>\n",
       "      <td>72</td>\n",
       "      <td>2.237415</td>\n",
       "    </tr>\n",
       "    <tr>\n",
       "      <th>9</th>\n",
       "      <td>99</td>\n",
       "      <td>27</td>\n",
       "      <td>0.839030</td>\n",
       "    </tr>\n",
       "  </tbody>\n",
       "</table>\n",
       "</div>"
      ],
      "text/plain": [
       "  acc_term  acc_term_count  acc_term_perc\n",
       "0       78             725      22.529521\n",
       "1       90             563      17.495339\n",
       "2       69             284       8.825357\n",
       "3       45             270       8.390305\n",
       "4       88             219       6.805469\n",
       "5       52             205       6.370416\n",
       "6        0             183       5.686762\n",
       "7       18             149       4.630205\n",
       "8       20              72       2.237415\n",
       "9       99              27       0.839030"
      ]
     },
     "execution_count": 8,
     "metadata": {},
     "output_type": "execute_result"
    }
   ],
   "source": [
    "at_counts"
   ]
  },
  {
   "cell_type": "markdown",
   "metadata": {},
   "source": [
    "## Generate Plots"
   ]
  },
  {
   "cell_type": "markdown",
   "metadata": {},
   "source": [
    "Set global font sizes for plotting"
   ]
  },
  {
   "cell_type": "code",
   "execution_count": 9,
   "metadata": {},
   "outputs": [],
   "source": [
    "SMALL_SIZE = 8\n",
    "MEDIUM_SIZE = 10\n",
    "BIGGER_SIZE = 12\n",
    "\n",
    "plt.rc('font', size=SMALL_SIZE)          # controls default text sizes\n",
    "plt.rc('axes', titlesize=SMALL_SIZE)     # fontsize of the axes title\n",
    "plt.rc('axes', labelsize=MEDIUM_SIZE)    # fontsize of the x and y labels\n",
    "plt.rc('xtick', labelsize=SMALL_SIZE)    # fontsize of the tick labels\n",
    "plt.rc('ytick', labelsize=SMALL_SIZE)    # fontsize of the tick labels\n",
    "plt.rc('legend', fontsize=SMALL_SIZE)    # legend fontsize\n",
    "plt.rc('figure', titlesize=MEDIUM_SIZE)  # fontsize of the figure title"
   ]
  },
  {
   "cell_type": "markdown",
   "metadata": {},
   "source": [
    "### Monomer Plot"
   ]
  },
  {
   "cell_type": "code",
   "execution_count": 10,
   "metadata": {},
   "outputs": [
    {
     "data": {
      "image/png": "[encoded data removed]",
      "text/plain": [
       "<Figure size 1800x1200 with 3 Axes>"
      ]
     },
     "metadata": {
      "needs_background": "light"
     },
     "output_type": "display_data"
    }
   ],
   "source": [
    "fig, axs = plt.subplots(1, 3, sharey=True, dpi=300)\n",
    "\n",
    "rot=45\n",
    "wt='bold'\n",
    "\n",
    "plt.rcParams[\"font.weight\"] = 'regular'\n",
    "\n",
    "axs[0].bar('acc_term', 'acc_term_perc', data=at_counts)\n",
    "axs[0].set_title('Terminal Acceptor')\n",
    "axs[0].set_xticklabels(at_counts['acc_term'], rotation=rot)\n",
    "axs[0].set(ylim=(0, 100))\n",
    "\n",
    "axs[0].grid(alpha=0.5)\n",
    "axs[0].set_axisbelow(True)\n",
    "\n",
    "axs[1].bar('don_core', 'don_core_perc', data=dc_counts)\n",
    "axs[1].set_title('Core Donor')\n",
    "axs[1].set_xticklabels(dc_counts['don_core'], rotation=rot)\n",
    "\n",
    "axs[1].grid(alpha=0.5)\n",
    "axs[1].set_axisbelow(True)\n",
    "\n",
    "for tic in axs[1].yaxis.get_major_ticks():\n",
    "    tic.tick1On = tic.tick2On = False\n",
    "\n",
    "axs[2].bar('acc_core', 'acc_core_perc', data=ac_counts)\n",
    "axs[2].set_title('Core Acceptor')\n",
    "axs[2].set_xticklabels(ac_counts['acc_core'], rotation=rot)\n",
    "\n",
    "axs[2].grid(alpha=0.5)\n",
    "axs[2].set_axisbelow(True)\n",
    "\n",
    "for tic in axs[2].yaxis.get_major_ticks():\n",
    "    tic.tick1On = tic.tick2On = False\n",
    "\n",
    "top = 0.5\n",
    "bottom = 0.15\n",
    "left = 0\n",
    "right = 1\n",
    "\n",
    "fig.text((left+right)/2, 0.03,'Index', ha='center')\n",
    "fig.text(-0.08, (top+bottom)/2,'Frequency Percentage', va='center', rotation='vertical')\n",
    "\n",
    "plt.subplots_adjust(top=top, bottom=bottom, left=left, right=right, hspace=0.55, wspace=0.05)\n",
    "\n",
    "plt.savefig('frequency_plot.pdf', transparent=False, bbox_inches='tight')\n",
    "plt.savefig('frequency_plot.png', transparent=False, bbox_inches='tight')\n",
    "\n",
    "plt.show()\n"
   ]
  },
  {
   "cell_type": "code",
   "execution_count": null,
   "metadata": {},
   "outputs": [],
   "source": []
  }
 ],
 "metadata": {
  "kernelspec": {
   "display_name": "Python 3.7",
   "language": "python",
   "name": "python3"
  },
  "language_info": {
   "codemirror_mode": {
    "name": "ipython",
    "version": 3
   },
   "file_extension": ".py",
   "mimetype": "text/x-python",
   "name": "python",
   "nbconvert_exporter": "python",
   "pygments_lexer": "ipython3",
   "version": "3.7.0"
  }
 },
 "nbformat": 4,
 "nbformat_minor": 4
}
